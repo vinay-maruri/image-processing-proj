{
 "cells": [
  {
   "cell_type": "code",
   "execution_count": 1,
   "metadata": {},
   "outputs": [],
   "source": [
    "import pytesseract\n",
    "from PIL import Image\n",
    "import requests\n",
    "import glob\n",
    "import os"
   ]
  },
  {
   "cell_type": "code",
   "execution_count": 2,
   "metadata": {},
   "outputs": [],
   "source": [
    "def ocr_extraction(filename):\n",
    "    text = pytesseract.image_to_string(Image.open(filename))\n",
    "    return text"
   ]
  },
  {
   "cell_type": "code",
   "execution_count": 3,
   "metadata": {},
   "outputs": [],
   "source": [
    "pytesseract.pytesseract.tesseract_cmd = r'C:\\Program Files\\Tesseract-OCR\\tesseract.exe'"
   ]
  },
  {
   "cell_type": "code",
   "execution_count": 4,
   "metadata": {},
   "outputs": [
    {
     "data": {
      "text/plain": [
       "'DUNS 008-826-4582\\nANITAS MEXICAN FOODS CORP ca)\\n1390 W 4th St, Sn Bernerdino, CA\\nap S241h\\nSates OMIM\\nSe 2099 Mute TortHas & Taco Shells\\nak Bank of Amer Nat Tr & Svgs Age\\nAacts Wile | Bingley\\nRogelio Rodkes:\\n‘Neuro Rooks.\\n“Rivard Robles\\n\\nANITAS OF NANTUCKET\\n‘See MARINE LUMBER CO NC\\n\\nBUNS 03-53-1763\\nANITAS SPEC SHOP\\n626 Southwest De, Jonesboro, AR\\nZip TRACE\\nStes 37084\\nSE 8621 Rat Womens Ready-To-Weer Clothing\\nAgeis Jones Clayion & VWorlow Lid\\nKathleen Copenhaver\\nAnita Covngion\\nRobert L Covington\\n8 Lee Covington Jr\\n\\nFel (714) 894-8708\\nfrp 10\\n\\nw\\n\\nTaf {801} 932-6960\\n\\nPF Sis Paar\\n\\nPE filttg Pes Por Adit\\nPt Fin Opers Prs\\nMig Oners\\n\\nPALN-S 10128-4289\\n&@ ANITEC IMAGE TECHNOLOGY CORP\\n\\n(Seby of INTERNATIONAL PAPER CO\")\\n40 Charles St, Binghamton, NY\\nZip 13008\\nSoles LE5NB\\nFar Spt ANTC\\n9 6711 3GE1 Holding Company Nir Photographic\\nSupplies\\nAccls Arthur Andersen & Co.New York\\nigi Cst Glvine Conneity Chase O\\'Dornll Mew York\\n*lames Stolley\\n\\nTel (607} 774-2333\\nEmp 1108\\nExch O16.\\n\\n \\n\\ndearigeeyesmatene:\\n\\n: DUNS 900-828-4952\\n| @ ANJA ENGG CORP ica)\\n| (Suby of SCRIPTO-TOKAL INC)\\n| 1017 § Mountain Ave, Monewvia, CA\\nZp L016 Fel (818) 253-3291\\nSales 15KM Emp 240\\n| 5H 3951 Moir Pens\\nAccs Touche Ross & Co\\nTenia Nitta m\\nNimoea Nite we\\n\\nDUNS O7-994-7073\\n| ARJO CONSTRN LTD? ay)\\n7 Hemlock St, Lativam, NY\\n2p 12110 Fel (B18) 785-5546\\nSales 2M Emp 6\\nSi 1623 Pipeline Contractors\\nAcets Ross & De Chants\\n\\n  \\n\\n \\n\\nhata P Yellen Pr\\nTrrothy Butler e\\nAnthony Veliano Pe\\nJanes Yelleno Sec\\ndosaph Mi Yellane: Tr\\nBALA 94-125-8153\\n@ ANJO CONSTRUCTION CO® «ray\\n4540 New Texas Rd, Pittsburgh, PA\\nap 18239 Fel (442) 793-7006\\n\\nStes 220M Emp 100\\n\\nSH 1811 General Contracing Highway & Street\\nConstruction\\n\\n8% Pinsburgh Net Bk Monroeville.\\n\\nActs Touche Ross & Co.\\n\\nigh Ost James Faherty Saskin & Sears\\n\\n*Baritc Moscatieio %\\nRobert Ferdiani we\\n\\n*Concetta Mosceiiello © See Tr\\n\\n“84 Patricia Spring Fin Ot Pr Ps\\nPE Custer fogg\\n\\n: DUNS 08-622-6688\\nt AMEE RAY TDIBLITND iM ca\\n\\n ANLAB\\n| See DEWANTE & STOWELL INC\\n\\nBUNS 0A-207-8364\\nAMLE PAPER CO INC ine)\\nA5AGW 5 ist St. Chicago. IL\\nZip 60532 Fel (812) 767-1000\\n\\n| Sales 13MM Emp 54\\n\\n| SO $123 Whi Industrial & Personal Service Paper\\n| Bk Noch Shore Nat Ok\\n\\n| Accke Geantield Wiseman & Leader Wimetis\\n\\n| *Robert M Miedelran Priv\\n\\n+ Roger W Plsiss Ex WP Sec fin\\nHarry Mandal Cont rs\\nDavid Niedeaan Bis dtktg\\nWichael Weiss ‘pers Prs\\n\\ntie S OB-221 8908\\n\\nANLOCK PDTS & MCH CO* cay\\n19231 Van Born, Alien Park, MI\\nZip 48101 Fat {213} 274-2644\\nSales NA ing?\\nSIC 3599 Machive Stop\\nRomie Blanco Ptr\\n‘Marilyn Blanea: See\\n\\nDURE O2-844-9601\\nANMA* cay\\nMARIOS ITALIAN RESTAURANT\\nLOG Broxton Ave, Los Angeles, CA\\nZig 30024 Fel (213) 208-7077\\nSales 2M Emp 45\\nSiG‘ 8B1Z Restaurant\\nBk City Net Bk\\nfects Sheigen Barn\\n“Marie Angeli Pe\\n*Marine Argetisi w\\n\\n* Asma Maria Argsint we\\n\\nDUNE O47 L-APDE\\n\\nANMAR\\n‘RAARD Evel OV\\n\\n \\n\\nBUNS 30-534-4726\\n\\n3 ANN ARBOR MACHINE CO* (ay\\n\\n78 Jackson Piz, Ann Arbor, ME\\n\\n2p 48108 Fai (319) 768-7226\\n\\nSales LAN Emp 9G\\n\\nSE 3544 3542 Senge Mn Spasia ecustral\\n\\n| Machines & Productisn Metal Work\\n| 8 Manufacturers Bk\\n\\nAccts Touthe Ross & Go\\n\\n| Robert Bizg Ch Bd Pe\\n| Flames ® Breining\\n| ‘Glen Keeney\\n\\nWP Mle Doers Pur\\nVP Prd Sf Opers\\n\\nRandall Girkdix Gea Te Ot Pe Par\\n\\nANN ARBOR PIZZA\\nSee SELKNAP ENTERPRISES INC\\n\\nANN ARBOR RAILROAD\\nSee MICHIGAN INTRSTATE RLWY CO*\\n\\nANN ARBOR THERAPY OXYGEN CO\\nSee ANN ARBOR WELDING SUPPLY CO*\\n\\nANH ARBOR VOLVO\\nSee TOYOTA-ANN ARBOR INC\\n\\nBUEN 091-670-8778\\n\\nARN ARBOR WELDING SUPPLY CO* cany\\nANN ARBOR THERAPY OXYGEN CO\\n\\n223] Platt Be, Ann Arbor, Mb\\n\\nBp 48104 Fe (318) 971-3330\\n‘Saas NA Eiep 12\\n\\nSC 5086 Wri Welding Supplies\\n\\n8h NBD\\n\\n“Mitchell W Michalek Jp Pr Seo Tr\\n\\nDGHS O4-300-8277 iP\\n\\n| ANN ELLEN ENTERPRISES INC can\\n| ARTISAN FASHION OUTLET\\n\\n175 Meritage Ava, Portenouth, NH\\ndp 03801 Ted (603) 636-0023\\nSieg RAY Emp 150'"
      ]
     },
     "execution_count": 4,
     "metadata": {},
     "output_type": "execute_result"
    }
   ],
   "source": [
    "ocr_extraction('69714077_489324401900590_4605881090953969664_n.jpg')"
   ]
  },
  {
   "cell_type": "code",
   "execution_count": null,
   "metadata": {},
   "outputs": [],
   "source": []
  }
 ],
 "metadata": {
  "kernelspec": {
   "display_name": "Python 3",
   "language": "python",
   "name": "python3"
  },
  "language_info": {
   "codemirror_mode": {
    "name": "ipython",
    "version": 3
   },
   "file_extension": ".py",
   "mimetype": "text/x-python",
   "name": "python",
   "nbconvert_exporter": "python",
   "pygments_lexer": "ipython3",
   "version": "3.7.1"
  }
 },
 "nbformat": 4,
 "nbformat_minor": 2
}
